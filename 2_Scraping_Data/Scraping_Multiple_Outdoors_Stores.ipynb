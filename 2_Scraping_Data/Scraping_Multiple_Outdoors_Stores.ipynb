{
 "cells": [
  {
   "cell_type": "markdown",
   "metadata": {},
   "source": [
    "## Importing libraries"
   ]
  },
  {
   "cell_type": "code",
   "execution_count": 1,
   "metadata": {},
   "outputs": [],
   "source": [
    "import requests\n",
    "from requests import get\n",
    "from bs4 import BeautifulSoup\n",
    "import pandas as pd\n",
    "import numpy as np\n",
    "from selenium import webdriver\n",
    "\n",
    "from time import sleep\n",
    "from random import randint"
   ]
  },
  {
   "cell_type": "code",
   "execution_count": 2,
   "metadata": {},
   "outputs": [
    {
     "name": "stdout",
     "output_type": "stream",
     "text": [
      "Enter a item you want to compare prices: Arcteryx Beta\n"
     ]
    }
   ],
   "source": [
    "i = input('Enter a item you want to compare prices: ').split(' ')"
   ]
  },
  {
   "cell_type": "code",
   "execution_count": 3,
   "metadata": {},
   "outputs": [],
   "source": [
    "product = []\n",
    "price = []\n",
    "store = []"
   ]
  },
  {
   "cell_type": "markdown",
   "metadata": {},
   "source": [
    "## MEC"
   ]
  },
  {
   "cell_type": "code",
   "execution_count": 4,
   "metadata": {},
   "outputs": [],
   "source": [
    "url = 'https://www.mec.ca/en/search?org_text=' + (i[0] + '%20' + i[1] + '&text=' + i[0] + '%20' + i[1] if len(i)>1 else i[0] + '&text=' + i[0])"
   ]
  },
  {
   "cell_type": "code",
   "execution_count": 5,
   "metadata": {},
   "outputs": [],
   "source": [
    "driver = webdriver.Chrome('C:/Program Files/Google/Chrome/Application/chromedriver.exe')\n",
    "\n",
    "driver.get(url)\n",
    "\n",
    "content = driver.page_source\n",
    "\n",
    "soup = BeautifulSoup(content)"
   ]
  },
  {
   "cell_type": "code",
   "execution_count": 6,
   "metadata": {},
   "outputs": [],
   "source": [
    "gear_div = soup.findAll(attrs={'class':'flexigrid__tile js-plp-with-takeovers__tile qa-plp-with-takeovers__tile'})"
   ]
  },
  {
   "cell_type": "code",
   "execution_count": 7,
   "metadata": {},
   "outputs": [],
   "source": [
    "for container in gear_div:\n",
    "\n",
    "    name = container.p.a.text\n",
    "    product.append(name)\n",
    "    \n",
    "    prices = container.find('span', class_='qa-single-price').text\n",
    "    price.append(prices)\n",
    "    \n",
    "    store.append('MEC')"
   ]
  },
  {
   "cell_type": "markdown",
   "metadata": {},
   "source": [
    "## Atmosphere"
   ]
  },
  {
   "cell_type": "code",
   "execution_count": 8,
   "metadata": {},
   "outputs": [],
   "source": [
    "url = 'https://www.atmosphere.ca/search.html?q=' + (i[0] + '%20' + i[1] if len(i)>1 else i[0]) + ';page=1'"
   ]
  },
  {
   "cell_type": "code",
   "execution_count": 9,
   "metadata": {},
   "outputs": [],
   "source": [
    "driver = webdriver.Chrome('C:/Program Files/Google/Chrome/Application/chromedriver.exe')\n",
    "\n",
    "driver.get(url)\n",
    "\n",
    "content = driver.page_source\n",
    "\n",
    "soup = BeautifulSoup(content)"
   ]
  },
  {
   "cell_type": "code",
   "execution_count": 10,
   "metadata": {},
   "outputs": [],
   "source": [
    "gear_div = soup.findAll(attrs={'class':'product-grid__list-item product-grid__list-item_state_comparable'})"
   ]
  },
  {
   "cell_type": "code",
   "execution_count": 12,
   "metadata": {},
   "outputs": [],
   "source": [
    "for container in gear_div:\n",
    "    \n",
    "    name = container.find('span', class_='product-title-text').text\n",
    "    product.append(name)\n",
    "    \n",
    "    prices = container.find('span', class_='product-price-text').text if container.find('span', class_='product-price-text') else container.find('span', class_='product-price__now-price-text').text\n",
    "    price.append(prices)\n",
    "    \n",
    "    store.append('Atmosphere')"
   ]
  },
  {
   "cell_type": "markdown",
   "metadata": {},
   "source": [
    "## The Last Hunt"
   ]
  },
  {
   "cell_type": "code",
   "execution_count": 13,
   "metadata": {},
   "outputs": [],
   "source": [
    "url = 'https://www.thelasthunt.com/search/?q=' + (i[0] + '%20' +i[1] if len(i)>1 else i[0])"
   ]
  },
  {
   "cell_type": "code",
   "execution_count": 14,
   "metadata": {},
   "outputs": [],
   "source": [
    "driver = webdriver.Chrome('C:/Program Files/Google/Chrome/Application/chromedriver.exe')\n",
    "\n",
    "driver.get(url)\n",
    "\n",
    "content = driver.page_source\n",
    "\n",
    "soup = BeautifulSoup(content)"
   ]
  },
  {
   "cell_type": "code",
   "execution_count": 15,
   "metadata": {},
   "outputs": [],
   "source": [
    "gear_div = soup.findAll(attrs={'itemprop':'itemListElement'})"
   ]
  },
  {
   "cell_type": "code",
   "execution_count": 16,
   "metadata": {},
   "outputs": [],
   "source": [
    "for container in gear_div:\n",
    "    \n",
    "    brand = container.find('a', class_='ss-product__info__anchor ss-product__info__manufacturer').text\n",
    "    name = container.find('a', class_='ss-product__info__anchor ss-product__info__name').text\n",
    "    name = name.split('\\n', 1)[0]\n",
    "    product.append(brand + ' ' + name)\n",
    "    \n",
    "    prices = container.find('span', class_=\"ss-product__price--special\").text if container.find('span', class_=\"ss-product__price--special\") else container.find('span', class_=\"ss-product__price ss-product__price--old\").text\n",
    "    prices = prices.split()[1]\n",
    "    price.append(prices)\n",
    "    \n",
    "    store.append('The Last Hunt')"
   ]
  },
  {
   "cell_type": "markdown",
   "metadata": {},
   "source": [
    "## Valhalla Pure Outfitters "
   ]
  },
  {
   "cell_type": "code",
   "execution_count": 17,
   "metadata": {},
   "outputs": [],
   "source": [
    "url = 'https://vpo.ca/search?searchterm=' + i[0] + ('+' + i[1] if len(i)>1 else '')"
   ]
  },
  {
   "cell_type": "code",
   "execution_count": 18,
   "metadata": {},
   "outputs": [],
   "source": [
    "driver = webdriver.Chrome('C:/Program Files/Google/Chrome/Application/chromedriver.exe')\n",
    "\n",
    "driver.get(url)\n",
    "\n",
    "content = driver.page_source\n",
    "\n",
    "soup = BeautifulSoup(content, 'html.parser')"
   ]
  },
  {
   "cell_type": "code",
   "execution_count": 19,
   "metadata": {},
   "outputs": [],
   "source": [
    "gear_div = soup.findAll(attrs={'class':'col-md-3 col-sm-6 col-xs-12 productBox ng-scope'})"
   ]
  },
  {
   "cell_type": "code",
   "execution_count": 20,
   "metadata": {},
   "outputs": [],
   "source": [
    "for container in gear_div:\n",
    "    \n",
    "    brand = container.find('h5', class_='ng-binding').text\n",
    "    name = container.find('a', class_='ng-binding').text\n",
    "    product.append(brand + ' ' + name)\n",
    "    \n",
    "    prices = container.find('p', class_=\"ThumbPrice ng-binding\").text\n",
    "    price.append(prices)\n",
    "    \n",
    "    store.append('VPO')"
   ]
  },
  {
   "cell_type": "markdown",
   "metadata": {},
   "source": [
    "## Storing values"
   ]
  },
  {
   "cell_type": "code",
   "execution_count": 21,
   "metadata": {},
   "outputs": [],
   "source": [
    "df = pd.DataFrame({'Product Name':product,'Price':price,'Store':store}) "
   ]
  },
  {
   "cell_type": "code",
   "execution_count": 23,
   "metadata": {},
   "outputs": [],
   "source": [
    "df.to_csv('products.csv', index=False, encoding='utf-8')"
   ]
  }
 ],
 "metadata": {
  "kernelspec": {
   "display_name": "Python 3",
   "language": "python",
   "name": "python3"
  },
  "language_info": {
   "codemirror_mode": {
    "name": "ipython",
    "version": 3
   },
   "file_extension": ".py",
   "mimetype": "text/x-python",
   "name": "python",
   "nbconvert_exporter": "python",
   "pygments_lexer": "ipython3",
   "version": "3.8.5"
  }
 },
 "nbformat": 4,
 "nbformat_minor": 4
}
