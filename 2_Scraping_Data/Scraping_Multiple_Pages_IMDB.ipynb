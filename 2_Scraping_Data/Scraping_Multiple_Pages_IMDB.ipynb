{
 "cells": [
  {
   "cell_type": "code",
   "execution_count": 11,
   "metadata": {},
   "outputs": [],
   "source": [
    "import requests\n",
    "from requests import get\n",
    "from bs4 import BeautifulSoup\n",
    "import pandas as pd\n",
    "import numpy as np\n",
    "\n",
    "from time import sleep\n",
    "from random import randint"
   ]
  },
  {
   "cell_type": "code",
   "execution_count": 12,
   "metadata": {},
   "outputs": [],
   "source": [
    "headers = {\"Accept-Language\": \"en-US,en;q=0.5\"}"
   ]
  },
  {
   "cell_type": "code",
   "execution_count": 13,
   "metadata": {},
   "outputs": [],
   "source": [
    "titles = []\n",
    "years = []\n",
    "time = []\n",
    "imdb_ratings = []\n",
    "metascores = []\n",
    "votes = []\n",
    "us_gross = []"
   ]
  },
  {
   "cell_type": "code",
   "execution_count": 14,
   "metadata": {},
   "outputs": [],
   "source": [
    "pages = np.arange(1, 1001, 50)"
   ]
  },
  {
   "cell_type": "code",
   "execution_count": 15,
   "metadata": {},
   "outputs": [],
   "source": [
    "for page in pages: \n",
    "\n",
    "  page = requests.get(\"https://www.imdb.com/search/title/?groups=top_1000&start=\" + str(page) + \"&ref_=adv_nxt\", headers=headers)\n",
    "\n",
    "  soup = BeautifulSoup(page.text, 'html.parser')\n",
    "  movie_div = soup.find_all('div', class_='lister-item mode-advanced')\n",
    "  \n",
    "  sleep(randint(2,10))\n",
    "\n",
    "  for container in movie_div:\n",
    "\n",
    "        name = container.h3.a.text\n",
    "        titles.append(name)\n",
    "        \n",
    "        year = container.h3.find('span', class_='lister-item-year').text\n",
    "        years.append(year)\n",
    "\n",
    "        runtime = container.p.find('span', class_='runtime') if container.p.find('span', class_='runtime') else ''\n",
    "        time.append(runtime)\n",
    "\n",
    "        imdb = float(container.strong.text)\n",
    "        imdb_ratings.append(imdb)\n",
    "\n",
    "        m_score = container.find('span', class_='metascore').text if container.find('span', class_='metascore') else ''\n",
    "        metascores.append(m_score)\n",
    "\n",
    "        nv = container.find_all('span', attrs={'name': 'nv'})\n",
    "        \n",
    "        vote = nv[0].text\n",
    "        votes.append(vote)\n",
    "        \n",
    "        grosses = nv[1].text if len(nv) > 1 else ''\n",
    "        us_gross.append(grosses)"
   ]
  },
  {
   "cell_type": "code",
   "execution_count": 16,
   "metadata": {},
   "outputs": [],
   "source": [
    "movies = pd.DataFrame({\n",
    "'movie': titles,\n",
    "'year': years,\n",
    "'imdb': imdb_ratings,\n",
    "'metascore': metascores,\n",
    "'votes': votes,\n",
    "'us_grossMillions': us_gross,\n",
    "'timeMin': time\n",
    "})"
   ]
  },
  {
   "cell_type": "code",
   "execution_count": 17,
   "metadata": {},
   "outputs": [],
   "source": [
    "movies['votes'] = movies['votes'].str.replace(',', '').astype(int)\n",
    "\n",
    "movies.loc[:, 'year'] = movies['year'].str[-5:-1].astype(int)\n",
    "\n",
    "movies['timeMin'] = movies['timeMin'].astype(str)\n",
    "movies['timeMin'] = movies['timeMin'].str.extract('(\\d+)').astype(int)\n",
    "\n",
    "movies['metascore'] = movies['metascore'].str.extract('(\\d+)')\n",
    "movies['metascore'] = pd.to_numeric(movies['metascore'], errors='coerce')\n",
    "\n",
    "movies['us_grossMillions'] = movies['us_grossMillions'].map(lambda x: x.lstrip('$').rstrip('M'))\n",
    "movies['us_grossMillions'] = pd.to_numeric(movies['us_grossMillions'], errors='coerce')"
   ]
  },
  {
   "cell_type": "code",
   "execution_count": 18,
   "metadata": {},
   "outputs": [
    {
     "name": "stdout",
     "output_type": "stream",
     "text": [
      "                            movie  year  imdb  metascore   votes  \\\n",
      "0    Zack Snyder's Justice League  2021   8.3       54.0  191400   \n",
      "1                  Sound of Metal  2019   7.8       82.0   46613   \n",
      "2     Judas and the Black Messiah  2021   7.6       85.0   27677   \n",
      "3      The Trial of the Chicago 7  2020   7.8       77.0  115492   \n",
      "4               Avengers: Endgame  2019   8.4       78.0  840703   \n",
      "..                            ...   ...   ...        ...     ...   \n",
      "995           Munna Bhai M.B.B.S.  2003   8.1        NaN   74474   \n",
      "996                    Kai Po Che  2013   7.7       40.0   32942   \n",
      "997                     Vizontele  2001   8.0        NaN   33921   \n",
      "998                    The Breath  2009   8.0        NaN   32030   \n",
      "999          Lage Raho Munna Bhai  2006   8.1        NaN   43381   \n",
      "\n",
      "     us_grossMillions  timeMin  \n",
      "0                 NaN      242  \n",
      "1                 NaN      120  \n",
      "2                 NaN      126  \n",
      "3                 NaN      129  \n",
      "4              858.37      181  \n",
      "..                ...      ...  \n",
      "995               NaN      156  \n",
      "996              1.12      120  \n",
      "997               NaN      110  \n",
      "998               NaN      128  \n",
      "999              2.22      144  \n",
      "\n",
      "[1000 rows x 7 columns]\n"
     ]
    }
   ],
   "source": [
    "# to see your dataframe\n",
    "print(movies)"
   ]
  },
  {
   "cell_type": "code",
   "execution_count": 19,
   "metadata": {},
   "outputs": [
    {
     "name": "stdout",
     "output_type": "stream",
     "text": [
      "movie                object\n",
      "year                  int32\n",
      "imdb                float64\n",
      "metascore           float64\n",
      "votes                 int32\n",
      "us_grossMillions    float64\n",
      "timeMin               int32\n",
      "dtype: object\n"
     ]
    }
   ],
   "source": [
    "# to see the datatypes of your columns\n",
    "print(movies.dtypes)"
   ]
  },
  {
   "cell_type": "code",
   "execution_count": 20,
   "metadata": {},
   "outputs": [
    {
     "name": "stdout",
     "output_type": "stream",
     "text": [
      "movie                 0\n",
      "year                  0\n",
      "imdb                  0\n",
      "metascore           157\n",
      "votes                 0\n",
      "us_grossMillions    169\n",
      "timeMin               0\n",
      "dtype: int64\n"
     ]
    }
   ],
   "source": [
    "# to see where you're missing data and how much data is missing \n",
    "print(movies.isnull().sum())"
   ]
  },
  {
   "cell_type": "code",
   "execution_count": 21,
   "metadata": {},
   "outputs": [],
   "source": [
    "# to move all your scraped data to a CSV file\n",
    "movies.to_csv('movies.csv')"
   ]
  },
  {
   "cell_type": "code",
   "execution_count": null,
   "metadata": {},
   "outputs": [],
   "source": []
  }
 ],
 "metadata": {
  "kernelspec": {
   "display_name": "Python 3",
   "language": "python",
   "name": "python3"
  },
  "language_info": {
   "codemirror_mode": {
    "name": "ipython",
    "version": 3
   },
   "file_extension": ".py",
   "mimetype": "text/x-python",
   "name": "python",
   "nbconvert_exporter": "python",
   "pygments_lexer": "ipython3",
   "version": "3.8.5"
  }
 },
 "nbformat": 4,
 "nbformat_minor": 4
}
