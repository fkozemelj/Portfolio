{
 "cells": [
  {
   "cell_type": "code",
   "execution_count": 44,
   "metadata": {},
   "outputs": [],
   "source": [
    "import sqlalchemy\n",
    "import pandas as pd \n",
    "from sqlalchemy.orm import sessionmaker\n",
    "import requests\n",
    "import json\n",
    "from datetime import datetime\n",
    "import datetime\n",
    "import sqlite3"
   ]
  },
  {
   "cell_type": "code",
   "execution_count": 85,
   "metadata": {},
   "outputs": [],
   "source": [
    "DATABASE_LOCATION = \"sqlite:///my_played_tracks.sqlite\"\n",
    "USER_ID = \"4882uxou6ccxnvd3q32abpd6v\" \n",
    "TOKEN = \"BQC8ayw4lJqH4azCRAo4r2qfVtMCos_bIEGOdB6VFkRkkyo4UYwpMoQ2Zvh8wpZp_wb-MyQzulFpMqQJYqtMKWTOq_mrOlM3oZvdEdZjqrUHM0R5ZnqdLsydOzjBqsqyqSX1ywyEeNrc1QZcIcafqz4f6kokrYcHcgp5QVUfjGcikw\""
   ]
  },
  {
   "cell_type": "code",
   "execution_count": 100,
   "metadata": {},
   "outputs": [],
   "source": [
    "def check_if_valid_data(df: pd.DataFrame):\n",
    "    # Check if dataframe is empty\n",
    "    if df.empty:\n",
    "        print(\"No songs downloaded. Finishing execution\")\n",
    "        return False \n",
    "\n",
    "    # Primary Key Check\n",
    "    if pd.Series(df['played_at']).is_unique:\n",
    "        pass\n",
    "    else:\n",
    "        raise Exception(\"Primary Key check is violated\")\n",
    "\n",
    "    # Check for nulls\n",
    "    if df.isnull().values.any():\n",
    "        raise Exception(\"Null values found\")\n",
    "\n",
    "    return True"
   ]
  },
  {
   "cell_type": "code",
   "execution_count": 101,
   "metadata": {},
   "outputs": [
    {
     "name": "stdout",
     "output_type": "stream",
     "text": [
      "Data valid, proceed to Load stage\n",
      "Opened database successfully\n",
      "Data already exists in the database\n",
      "Close database successfully\n"
     ]
    }
   ],
   "source": [
    "if __name__ == \"__main__\":\n",
    "\n",
    "\n",
    "    #Extract part of the ETL process\n",
    "    \n",
    "    headers = {\n",
    "        \"Accept\" : \"application/json\",\n",
    "        \"Content-Type\" : \"application/json\",\n",
    "        \"Authorization\" : \"Bearer {token}\".format(token=TOKEN)\n",
    "    }\n",
    "    \n",
    "    \n",
    "     # Convert time to Unix timestamp in miliseconds      \n",
    "    today = datetime.datetime.now()\n",
    "    yesterday = today - datetime.timedelta(days=1)\n",
    "    yesterday_unix_timestamp = int(yesterday.timestamp()) * 1000\n",
    "    \n",
    "    # Download all songs you've listened to \"after yesterday\", which means in the last 24 hours   \n",
    "    r = requests.get(\"https://api.spotify.com/v1/me/player/recently-played?after={time}\".format(time=yesterday_unix_timestamp), headers = headers)\n",
    "    \n",
    "    data = r.json()\n",
    "\n",
    "    song_names = []\n",
    "    artist_names = []\n",
    "    played_at_list = []\n",
    "  \n",
    "    # Extracting only the relevant bits of data from the json object      \n",
    "    for song in data[\"items\"]:\n",
    "        song_names.append(song[\"track\"][\"name\"])\n",
    "        artist_names.append(song[\"track\"][\"album\"][\"artists\"][0][\"name\"])\n",
    "        played_at_list.append(song[\"played_at\"])\n",
    "                   \n",
    "    # Prepare a dictionary in order to turn it into a pandas dataframe below       \n",
    "    song_dict = {\n",
    "        \"song_name\" : song_names,\n",
    "        \"artist_name\": artist_names,\n",
    "        \"played_at\" : played_at_list,\n",
    "    }\n",
    "\n",
    "    song_df = pd.DataFrame(song_dict, columns = [\"song_name\", \"artist_name\", \"played_at\"])\n",
    "\n",
    "    # Validate\n",
    "    if check_if_valid_data(song_df):\n",
    "        print(\"Data valid, proceed to Load stage\")\n",
    "\n",
    "    # Load\n",
    "\n",
    "    engine = sqlalchemy.create_engine(DATABASE_LOCATION)\n",
    "    conn = sqlite3.connect('my_played_tracks.sqlite')\n",
    "    cursor = conn.cursor()\n",
    "\n",
    "    sql_query = \"\"\"\n",
    "    CREATE TABLE IF NOT EXISTS my_played_tracks(\n",
    "        song_name VARCHAR(200),\n",
    "        artist_name VARCHAR(200),\n",
    "        played_at VARCHAR(200),\n",
    "        CONSTRAINT primary_key_constraint PRIMARY KEY (played_at)\n",
    "    )\n",
    "    \"\"\"\n",
    "\n",
    "    cursor.execute(sql_query)\n",
    "    print(\"Opened database successfully\")\n",
    "\n",
    "    try:\n",
    "        song_df.to_sql(\"my_played_tracks\", engine, index=False, if_exists='append')\n",
    "    except:\n",
    "        print(\"Data already exists in the database\")\n",
    "\n",
    "    conn.close()\n",
    "    print(\"Close database successfully\")"
   ]
  },
  {
   "cell_type": "code",
   "execution_count": null,
   "metadata": {},
   "outputs": [],
   "source": []
  }
 ],
 "metadata": {
  "kernelspec": {
   "display_name": "Python 3",
   "language": "python",
   "name": "python3"
  },
  "language_info": {
   "codemirror_mode": {
    "name": "ipython",
    "version": 3
   },
   "file_extension": ".py",
   "mimetype": "text/x-python",
   "name": "python",
   "nbconvert_exporter": "python",
   "pygments_lexer": "ipython3",
   "version": "3.8.5"
  }
 },
 "nbformat": 4,
 "nbformat_minor": 4
}
