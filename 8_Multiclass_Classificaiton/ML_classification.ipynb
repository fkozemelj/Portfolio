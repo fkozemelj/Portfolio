{
 "cells": [
  {
   "cell_type": "code",
   "execution_count": 1,
   "metadata": {},
   "outputs": [],
   "source": [
    "import numpy as np\n",
    "import pandas as pd\n",
    "import matplotlib.pyplot as plt\n",
    "from sklearn.model_selection import train_test_split\n",
    "from sklearn.feature_extraction.text import CountVectorizer\n",
    "from sklearn.feature_extraction.text import TfidfTransformer\n",
    "from sklearn.naive_bayes import MultinomialNB\n",
    "from sklearn import metrics\n",
    "from sklearn.ensemble import RandomForestClassifier"
   ]
  },
  {
   "cell_type": "code",
   "execution_count": 2,
   "metadata": {},
   "outputs": [],
   "source": [
    "df = pd.read_csv(\"ClaimData.csv\")"
   ]
  },
  {
   "cell_type": "code",
   "execution_count": 3,
   "metadata": {},
   "outputs": [
    {
     "data": {
      "text/html": [
       "<div>\n",
       "<style scoped>\n",
       "    .dataframe tbody tr th:only-of-type {\n",
       "        vertical-align: middle;\n",
       "    }\n",
       "\n",
       "    .dataframe tbody tr th {\n",
       "        vertical-align: top;\n",
       "    }\n",
       "\n",
       "    .dataframe thead th {\n",
       "        text-align: right;\n",
       "    }\n",
       "</style>\n",
       "<table border=\"1\" class=\"dataframe\">\n",
       "  <thead>\n",
       "    <tr style=\"text-align: right;\">\n",
       "      <th></th>\n",
       "      <th>ClaimId</th>\n",
       "      <th>LineItemID</th>\n",
       "      <th>PetPolicyID</th>\n",
       "      <th>ItemDescription</th>\n",
       "      <th>DiagnosisOne</th>\n",
       "      <th>DiagnosisTwo</th>\n",
       "      <th>LineItemPrice</th>\n",
       "      <th>ClaimDateClosed</th>\n",
       "      <th>Condition</th>\n",
       "    </tr>\n",
       "  </thead>\n",
       "  <tbody>\n",
       "    <tr>\n",
       "      <th>0</th>\n",
       "      <td>16980751</td>\n",
       "      <td>2073120</td>\n",
       "      <td>0</td>\n",
       "      <td>Freyja:  Boarding (Canine 51-75 Lbs)</td>\n",
       "      <td>Anal Gland Surgery</td>\n",
       "      <td>NaN</td>\n",
       "      <td>25.00</td>\n",
       "      <td>2019-10-02 15:33:00.0000000</td>\n",
       "      <td>NO COND</td>\n",
       "    </tr>\n",
       "    <tr>\n",
       "      <th>1</th>\n",
       "      <td>17856529</td>\n",
       "      <td>3193005</td>\n",
       "      <td>1</td>\n",
       "      <td>Axel:  Biohazard Fee</td>\n",
       "      <td>Atopy</td>\n",
       "      <td>NaN</td>\n",
       "      <td>3.49</td>\n",
       "      <td>2020-06-29 14:28:00.0000000</td>\n",
       "      <td>ALLERGY (ALLERGIC)</td>\n",
       "    </tr>\n",
       "    <tr>\n",
       "      <th>2</th>\n",
       "      <td>17075791</td>\n",
       "      <td>392218</td>\n",
       "      <td>3</td>\n",
       "      <td>Kallie:  Sedation (DexDomitor)</td>\n",
       "      <td>ruptured CCL (right)</td>\n",
       "      <td>NaN</td>\n",
       "      <td>142.22</td>\n",
       "      <td>2019-11-01 19:29:00.0000000</td>\n",
       "      <td>CRUCIATE RUPTURE (ACL, CCL)</td>\n",
       "    </tr>\n",
       "    <tr>\n",
       "      <th>3</th>\n",
       "      <td>16890631</td>\n",
       "      <td>977795</td>\n",
       "      <td>4</td>\n",
       "      <td>Kaiden:  Scaling (Canine)</td>\n",
       "      <td>Dental</td>\n",
       "      <td>NaN</td>\n",
       "      <td>84.25</td>\n",
       "      <td>2019-09-05 13:57:00.0000000</td>\n",
       "      <td>DENTAL DISEASE</td>\n",
       "    </tr>\n",
       "    <tr>\n",
       "      <th>4</th>\n",
       "      <td>17152945</td>\n",
       "      <td>1907072</td>\n",
       "      <td>5</td>\n",
       "      <td>Sadie Mae:  Pain Management Level 2</td>\n",
       "      <td>TPLO</td>\n",
       "      <td>NaN</td>\n",
       "      <td>67.60</td>\n",
       "      <td>2019-11-26 07:43:00.0000000</td>\n",
       "      <td>CRUCIATE RUPTURE (ACL, CCL)</td>\n",
       "    </tr>\n",
       "    <tr>\n",
       "      <th>5</th>\n",
       "      <td>15151889</td>\n",
       "      <td>1314143</td>\n",
       "      <td>6</td>\n",
       "      <td>Boo:  Exam-Emergency/consultation</td>\n",
       "      <td>ingested chicken wing bones</td>\n",
       "      <td>NaN</td>\n",
       "      <td>139.00</td>\n",
       "      <td>2017-11-22 12:58:00.0000000</td>\n",
       "      <td>NO COND</td>\n",
       "    </tr>\n",
       "    <tr>\n",
       "      <th>6</th>\n",
       "      <td>17416137</td>\n",
       "      <td>973999</td>\n",
       "      <td>7</td>\n",
       "      <td>Sadie:  Examination</td>\n",
       "      <td>Lumps on Left side</td>\n",
       "      <td>NaN</td>\n",
       "      <td>52.00</td>\n",
       "      <td>2020-02-14 08:17:00.0000000</td>\n",
       "      <td>NO COND</td>\n",
       "    </tr>\n",
       "    <tr>\n",
       "      <th>7</th>\n",
       "      <td>13388833</td>\n",
       "      <td>426819</td>\n",
       "      <td>8</td>\n",
       "      <td>Reno:  Consultation - Emergency -</td>\n",
       "      <td>Chocolate Ingestion</td>\n",
       "      <td>NaN</td>\n",
       "      <td>160.00</td>\n",
       "      <td>2014-12-26 10:36:00.0000000</td>\n",
       "      <td>NO COND</td>\n",
       "    </tr>\n",
       "    <tr>\n",
       "      <th>8</th>\n",
       "      <td>14701031</td>\n",
       "      <td>2463868</td>\n",
       "      <td>9</td>\n",
       "      <td>Hunter:  Urinalysis Total</td>\n",
       "      <td>urine infection</td>\n",
       "      <td>NaN</td>\n",
       "      <td>77.60</td>\n",
       "      <td>2017-04-21 05:46:00.0000000</td>\n",
       "      <td>URINARY TRACT INFECTION</td>\n",
       "    </tr>\n",
       "    <tr>\n",
       "      <th>9</th>\n",
       "      <td>15445102</td>\n",
       "      <td>2650859</td>\n",
       "      <td>10</td>\n",
       "      <td>Millie:  Enrofloxacin 50mg Tab</td>\n",
       "      <td>renal failure and neurologic disease</td>\n",
       "      <td>NaN</td>\n",
       "      <td>94.88</td>\n",
       "      <td>2018-03-29 16:43:00.0000000</td>\n",
       "      <td>KIDNEY DISEASE</td>\n",
       "    </tr>\n",
       "  </tbody>\n",
       "</table>\n",
       "</div>"
      ],
      "text/plain": [
       "    ClaimId  LineItemID  PetPolicyID                       ItemDescription  \\\n",
       "0  16980751     2073120            0  Freyja:  Boarding (Canine 51-75 Lbs)   \n",
       "1  17856529     3193005            1                  Axel:  Biohazard Fee   \n",
       "2  17075791      392218            3        Kallie:  Sedation (DexDomitor)   \n",
       "3  16890631      977795            4             Kaiden:  Scaling (Canine)   \n",
       "4  17152945     1907072            5   Sadie Mae:  Pain Management Level 2   \n",
       "5  15151889     1314143            6     Boo:  Exam-Emergency/consultation   \n",
       "6  17416137      973999            7                   Sadie:  Examination   \n",
       "7  13388833      426819            8    Reno:  Consultation - Emergency -    \n",
       "8  14701031     2463868            9             Hunter:  Urinalysis Total   \n",
       "9  15445102     2650859           10        Millie:  Enrofloxacin 50mg Tab   \n",
       "\n",
       "                           DiagnosisOne DiagnosisTwo  LineItemPrice  \\\n",
       "0                    Anal Gland Surgery          NaN          25.00   \n",
       "1                                 Atopy          NaN           3.49   \n",
       "2                  ruptured CCL (right)          NaN         142.22   \n",
       "3                                Dental          NaN          84.25   \n",
       "4                                  TPLO          NaN          67.60   \n",
       "5           ingested chicken wing bones          NaN         139.00   \n",
       "6                    Lumps on Left side          NaN          52.00   \n",
       "7                   Chocolate Ingestion          NaN         160.00   \n",
       "8                       urine infection          NaN          77.60   \n",
       "9  renal failure and neurologic disease          NaN          94.88   \n",
       "\n",
       "               ClaimDateClosed                    Condition  \n",
       "0  2019-10-02 15:33:00.0000000                      NO COND  \n",
       "1  2020-06-29 14:28:00.0000000           ALLERGY (ALLERGIC)  \n",
       "2  2019-11-01 19:29:00.0000000  CRUCIATE RUPTURE (ACL, CCL)  \n",
       "3  2019-09-05 13:57:00.0000000               DENTAL DISEASE  \n",
       "4  2019-11-26 07:43:00.0000000  CRUCIATE RUPTURE (ACL, CCL)  \n",
       "5  2017-11-22 12:58:00.0000000                      NO COND  \n",
       "6  2020-02-14 08:17:00.0000000                      NO COND  \n",
       "7  2014-12-26 10:36:00.0000000                      NO COND  \n",
       "8  2017-04-21 05:46:00.0000000      URINARY TRACT INFECTION  \n",
       "9  2018-03-29 16:43:00.0000000               KIDNEY DISEASE  "
      ]
     },
     "execution_count": 3,
     "metadata": {},
     "output_type": "execute_result"
    }
   ],
   "source": [
    "df.head(10)"
   ]
  },
  {
   "cell_type": "code",
   "execution_count": 4,
   "metadata": {},
   "outputs": [
    {
     "data": {
      "text/plain": [
       "87829"
      ]
     },
     "execution_count": 4,
     "metadata": {},
     "output_type": "execute_result"
    }
   ],
   "source": [
    "df['ClaimId'].nunique()"
   ]
  },
  {
   "cell_type": "code",
   "execution_count": 5,
   "metadata": {},
   "outputs": [
    {
     "data": {
      "text/plain": [
       "98057"
      ]
     },
     "execution_count": 5,
     "metadata": {},
     "output_type": "execute_result"
    }
   ],
   "source": [
    "df['LineItemID'].nunique()"
   ]
  },
  {
   "cell_type": "code",
   "execution_count": 6,
   "metadata": {},
   "outputs": [
    {
     "data": {
      "text/plain": [
       "21"
      ]
     },
     "execution_count": 6,
     "metadata": {},
     "output_type": "execute_result"
    }
   ],
   "source": [
    "df['Condition'].nunique()"
   ]
  },
  {
   "cell_type": "code",
   "execution_count": 7,
   "metadata": {},
   "outputs": [
    {
     "data": {
      "text/plain": [
       "45146"
      ]
     },
     "execution_count": 7,
     "metadata": {},
     "output_type": "execute_result"
    }
   ],
   "source": [
    "df['DiagnosisOne'].nunique()"
   ]
  },
  {
   "cell_type": "code",
   "execution_count": 8,
   "metadata": {},
   "outputs": [
    {
     "data": {
      "text/plain": [
       "9"
      ]
     },
     "execution_count": 8,
     "metadata": {},
     "output_type": "execute_result"
    }
   ],
   "source": [
    "df['DiagnosisOne'].isnull().sum()"
   ]
  },
  {
   "cell_type": "code",
   "execution_count": 9,
   "metadata": {},
   "outputs": [
    {
     "data": {
      "text/plain": [
       "92980"
      ]
     },
     "execution_count": 9,
     "metadata": {},
     "output_type": "execute_result"
    }
   ],
   "source": [
    "df['DiagnosisTwo'].isnull().sum()"
   ]
  },
  {
   "cell_type": "code",
   "execution_count": 10,
   "metadata": {},
   "outputs": [
    {
     "data": {
      "image/png": "[encoded data removed]",
      "text/plain": [
       "<Figure size 720x432 with 1 Axes>"
      ]
     },
     "metadata": {
      "needs_background": "light"
     },
     "output_type": "display_data"
    }
   ],
   "source": [
    "fig = plt.figure(figsize=(10,6))\n",
    "df.groupby('Condition').DiagnosisOne.count().plot.bar(ylim=0)\n",
    "plt.show()"
   ]
  },
  {
   "cell_type": "code",
   "execution_count": 11,
   "metadata": {},
   "outputs": [],
   "source": [
    "col = ['ItemDescription', 'DiagnosisOne', 'Condition']\n",
    "df_id = df[col]\n",
    "df_id = df_id[pd.notnull(df_id['DiagnosisOne'])]"
   ]
  },
  {
   "cell_type": "code",
   "execution_count": 12,
   "metadata": {},
   "outputs": [],
   "source": [
    "df_id['Condition_ID'] = df_id['Condition'].factorize()[0]"
   ]
  },
  {
   "cell_type": "code",
   "execution_count": 13,
   "metadata": {
    "scrolled": true
   },
   "outputs": [
    {
     "data": {
      "text/html": [
       "<div>\n",
       "<style scoped>\n",
       "    .dataframe tbody tr th:only-of-type {\n",
       "        vertical-align: middle;\n",
       "    }\n",
       "\n",
       "    .dataframe tbody tr th {\n",
       "        vertical-align: top;\n",
       "    }\n",
       "\n",
       "    .dataframe thead th {\n",
       "        text-align: right;\n",
       "    }\n",
       "</style>\n",
       "<table border=\"1\" class=\"dataframe\">\n",
       "  <thead>\n",
       "    <tr style=\"text-align: right;\">\n",
       "      <th></th>\n",
       "      <th>ItemDescription</th>\n",
       "      <th>DiagnosisOne</th>\n",
       "      <th>Condition</th>\n",
       "      <th>Condition_ID</th>\n",
       "    </tr>\n",
       "  </thead>\n",
       "  <tbody>\n",
       "    <tr>\n",
       "      <th>0</th>\n",
       "      <td>Freyja:  Boarding (Canine 51-75 Lbs)</td>\n",
       "      <td>Anal Gland Surgery</td>\n",
       "      <td>NO COND</td>\n",
       "      <td>0</td>\n",
       "    </tr>\n",
       "    <tr>\n",
       "      <th>1</th>\n",
       "      <td>Axel:  Biohazard Fee</td>\n",
       "      <td>Atopy</td>\n",
       "      <td>ALLERGY (ALLERGIC)</td>\n",
       "      <td>1</td>\n",
       "    </tr>\n",
       "    <tr>\n",
       "      <th>2</th>\n",
       "      <td>Kallie:  Sedation (DexDomitor)</td>\n",
       "      <td>ruptured CCL (right)</td>\n",
       "      <td>CRUCIATE RUPTURE (ACL, CCL)</td>\n",
       "      <td>2</td>\n",
       "    </tr>\n",
       "    <tr>\n",
       "      <th>3</th>\n",
       "      <td>Kaiden:  Scaling (Canine)</td>\n",
       "      <td>Dental</td>\n",
       "      <td>DENTAL DISEASE</td>\n",
       "      <td>3</td>\n",
       "    </tr>\n",
       "    <tr>\n",
       "      <th>4</th>\n",
       "      <td>Sadie Mae:  Pain Management Level 2</td>\n",
       "      <td>TPLO</td>\n",
       "      <td>CRUCIATE RUPTURE (ACL, CCL)</td>\n",
       "      <td>2</td>\n",
       "    </tr>\n",
       "    <tr>\n",
       "      <th>...</th>\n",
       "      <td>...</td>\n",
       "      <td>...</td>\n",
       "      <td>...</td>\n",
       "      <td>...</td>\n",
       "    </tr>\n",
       "    <tr>\n",
       "      <th>98052</th>\n",
       "      <td>Izzy:  Consultation - Regular</td>\n",
       "      <td>diarrhea</td>\n",
       "      <td>NO COND</td>\n",
       "      <td>0</td>\n",
       "    </tr>\n",
       "    <tr>\n",
       "      <th>98053</th>\n",
       "      <td>Cristophe (Baby Boy): KEPPA XR 750mg TABLET</td>\n",
       "      <td>Keppra XR</td>\n",
       "      <td>SEIZURE</td>\n",
       "      <td>12</td>\n",
       "    </tr>\n",
       "    <tr>\n",
       "      <th>98054</th>\n",
       "      <td>Chloe:  Simplicef 200mg tab</td>\n",
       "      <td>Dermatitis/Allergies</td>\n",
       "      <td>ALLERGY (ALLERGIC)</td>\n",
       "      <td>1</td>\n",
       "    </tr>\n",
       "    <tr>\n",
       "      <th>98055</th>\n",
       "      <td>Louie:  Urine Specific Gravity</td>\n",
       "      <td>Ibuprofen Toxicity Continued</td>\n",
       "      <td>TOXIN INGESTION</td>\n",
       "      <td>17</td>\n",
       "    </tr>\n",
       "    <tr>\n",
       "      <th>98056</th>\n",
       "      <td>Max:  Sucralfate 1gr</td>\n",
       "      <td>Previous Renal Issues</td>\n",
       "      <td>KIDNEY DISEASE</td>\n",
       "      <td>5</td>\n",
       "    </tr>\n",
       "  </tbody>\n",
       "</table>\n",
       "<p>98048 rows × 4 columns</p>\n",
       "</div>"
      ],
      "text/plain": [
       "                                   ItemDescription  \\\n",
       "0             Freyja:  Boarding (Canine 51-75 Lbs)   \n",
       "1                             Axel:  Biohazard Fee   \n",
       "2                   Kallie:  Sedation (DexDomitor)   \n",
       "3                        Kaiden:  Scaling (Canine)   \n",
       "4              Sadie Mae:  Pain Management Level 2   \n",
       "...                                            ...   \n",
       "98052                Izzy:  Consultation - Regular   \n",
       "98053  Cristophe (Baby Boy): KEPPA XR 750mg TABLET   \n",
       "98054                  Chloe:  Simplicef 200mg tab   \n",
       "98055               Louie:  Urine Specific Gravity   \n",
       "98056                         Max:  Sucralfate 1gr   \n",
       "\n",
       "                       DiagnosisOne                    Condition  Condition_ID  \n",
       "0                Anal Gland Surgery                      NO COND             0  \n",
       "1                             Atopy           ALLERGY (ALLERGIC)             1  \n",
       "2              ruptured CCL (right)  CRUCIATE RUPTURE (ACL, CCL)             2  \n",
       "3                            Dental               DENTAL DISEASE             3  \n",
       "4                              TPLO  CRUCIATE RUPTURE (ACL, CCL)             2  \n",
       "...                             ...                          ...           ...  \n",
       "98052                      diarrhea                      NO COND             0  \n",
       "98053                     Keppra XR                      SEIZURE            12  \n",
       "98054          Dermatitis/Allergies           ALLERGY (ALLERGIC)             1  \n",
       "98055  Ibuprofen Toxicity Continued              TOXIN INGESTION            17  \n",
       "98056         Previous Renal Issues               KIDNEY DISEASE             5  \n",
       "\n",
       "[98048 rows x 4 columns]"
      ]
     },
     "execution_count": 13,
     "metadata": {},
     "output_type": "execute_result"
    }
   ],
   "source": [
    "df_id"
   ]
  },
  {
   "cell_type": "code",
   "execution_count": 14,
   "metadata": {},
   "outputs": [],
   "source": [
    "desc = df_id['DiagnosisOne'] +' ' + df_id['ItemDescription']"
   ]
  },
  {
   "cell_type": "code",
   "execution_count": 15,
   "metadata": {},
   "outputs": [],
   "source": [
    "X_train, X_test, y_train, y_test = train_test_split(desc, df_id['Condition'], test_size= 0.20, random_state = 5)\n",
    "\n",
    "count_vect = CountVectorizer()\n",
    "\n",
    "X_train_counts = count_vect.fit_transform(X_train)\n",
    "\n",
    "X_train_tfidf = TfidfTransformer().fit_transform(X_train_counts)\n",
    "\n",
    "clf = MultinomialNB().fit(X_train_tfidf, y_train)"
   ]
  },
  {
   "cell_type": "code",
   "execution_count": 16,
   "metadata": {},
   "outputs": [],
   "source": [
    "X_test_dtm = count_vect.transform(X_test)"
   ]
  },
  {
   "cell_type": "code",
   "execution_count": 17,
   "metadata": {},
   "outputs": [],
   "source": [
    "y_pred_class = clf.predict(X_test_dtm)"
   ]
  },
  {
   "cell_type": "code",
   "execution_count": 18,
   "metadata": {},
   "outputs": [
    {
     "name": "stdout",
     "output_type": "stream",
     "text": [
      "                                                                     precision    recall  f1-score   support\n",
      "\n",
      "                                                 ALLERGY (ALLERGIC)       0.75      0.72      0.73      1622\n",
      "                                                              COUGH       1.00      0.22      0.37       258\n",
      "                                        CRUCIATE RUPTURE (ACL, CCL)       0.91      0.52      0.66       541\n",
      "                                                     DENTAL DISEASE       0.88      0.69      0.78       600\n",
      "                                                           DIARRHEA       0.68      0.65      0.66      1193\n",
      "                                                       FOREIGN BODY       0.57      0.12      0.19       243\n",
      "          FOREIGN MATERIAL INGESTION(INGESTION OF FOREIGN MATERIAL)       0.57      0.17      0.26       305\n",
      "                                                           FRACTURE       0.96      0.54      0.69       500\n",
      "                                                    GASTROENTERITIS       0.83      0.11      0.19       552\n",
      "HIT BY CAR(VICTIM, PEDESTRIAN IN VEHICULAR AND/OR TRAFFIC ACCIDENT)       1.00      0.10      0.18        41\n",
      "                                                     KIDNEY DISEASE       0.95      0.45      0.61       313\n",
      "                                                            LIMPING       0.72      0.63      0.67       836\n",
      "                                                      LIVER DISEASE       0.95      0.37      0.54       351\n",
      "                                                           MASS(ES)       0.80      0.78      0.79      1263\n",
      "                                                            NO COND       0.71      0.96      0.82      8018\n",
      "                                                     OTITIS EXTERNA       0.80      0.64      0.71       936\n",
      "                                                            SEIZURE       0.96      0.36      0.52       284\n",
      "                                                    TOXIN INGESTION       0.86      0.42      0.56       292\n",
      "                                            URINARY TRACT INFECTION       0.90      0.45      0.60       402\n",
      "                                                           VOMITING       0.60      0.67      0.63      1060\n",
      "\n",
      "                                                           accuracy                           0.73     19610\n",
      "                                                          macro avg       0.82      0.48      0.56     19610\n",
      "                                                       weighted avg       0.75      0.73      0.71     19610\n",
      "\n"
     ]
    }
   ],
   "source": [
    "print(metrics.classification_report(y_test, y_pred_class))"
   ]
  },
  {
   "cell_type": "code",
   "execution_count": 19,
   "metadata": {},
   "outputs": [],
   "source": [
    "X_train, X_test, y_train, y_test = train_test_split(desc, df_id['Condition'], test_size= 0.2, random_state = 5)\n",
    "\n",
    "count_vect = CountVectorizer()\n",
    "\n",
    "X_train_counts = count_vect.fit_transform(X_train)\n",
    "\n",
    "X_train_tfidf = TfidfTransformer().fit_transform(X_train_counts)\n"
   ]
  },
  {
   "cell_type": "code",
   "execution_count": 20,
   "metadata": {},
   "outputs": [],
   "source": [
    "rnd = RandomForestClassifier().fit(X_train_tfidf, y_train)"
   ]
  },
  {
   "cell_type": "code",
   "execution_count": 21,
   "metadata": {},
   "outputs": [
    {
     "name": "stdout",
     "output_type": "stream",
     "text": [
      "                                                                     precision    recall  f1-score   support\n",
      "\n",
      "                                                 ALLERGY (ALLERGIC)       0.80      0.76      0.78      1622\n",
      "                                                              COUGH       0.88      0.75      0.81       258\n",
      "                                        CRUCIATE RUPTURE (ACL, CCL)       0.82      0.74      0.78       541\n",
      "                                                     DENTAL DISEASE       0.83      0.83      0.83       600\n",
      "                                                           DIARRHEA       0.79      0.80      0.80      1193\n",
      "                                                       FOREIGN BODY       0.50      0.37      0.42       243\n",
      "          FOREIGN MATERIAL INGESTION(INGESTION OF FOREIGN MATERIAL)       0.51      0.30      0.38       305\n",
      "                                                           FRACTURE       0.89      0.77      0.83       500\n",
      "                                                    GASTROENTERITIS       0.74      0.58      0.65       552\n",
      "HIT BY CAR(VICTIM, PEDESTRIAN IN VEHICULAR AND/OR TRAFFIC ACCIDENT)       0.89      0.80      0.85        41\n",
      "                                                     KIDNEY DISEASE       0.86      0.76      0.80       313\n",
      "                                                            LIMPING       0.79      0.72      0.75       836\n",
      "                                                      LIVER DISEASE       0.84      0.71      0.77       351\n",
      "                                                           MASS(ES)       0.84      0.86      0.85      1263\n",
      "                                                            NO COND       0.87      0.93      0.90      8018\n",
      "                                                     OTITIS EXTERNA       0.76      0.81      0.78       936\n",
      "                                                            SEIZURE       0.90      0.84      0.87       284\n",
      "                                                    TOXIN INGESTION       0.76      0.72      0.74       292\n",
      "                                            URINARY TRACT INFECTION       0.82      0.81      0.81       402\n",
      "                                                           VOMITING       0.76      0.82      0.79      1060\n",
      "\n",
      "                                                           accuracy                           0.83     19610\n",
      "                                                          macro avg       0.79      0.73      0.76     19610\n",
      "                                                       weighted avg       0.82      0.83      0.82     19610\n",
      "\n"
     ]
    }
   ],
   "source": [
    "X_test_dtm = count_vect.transform(X_test)\n",
    "\n",
    "y_pred_class = rnd.predict(X_test_dtm)\n",
    "\n",
    "print(metrics.classification_report(y_test, y_pred_class))"
   ]
  },
  {
   "cell_type": "code",
   "execution_count": 22,
   "metadata": {},
   "outputs": [],
   "source": [
    "df2 = pd.read_csv('Holdout.csv')"
   ]
  },
  {
   "cell_type": "code",
   "execution_count": 23,
   "metadata": {
    "scrolled": true
   },
   "outputs": [
    {
     "data": {
      "text/html": [
       "<div>\n",
       "<style scoped>\n",
       "    .dataframe tbody tr th:only-of-type {\n",
       "        vertical-align: middle;\n",
       "    }\n",
       "\n",
       "    .dataframe tbody tr th {\n",
       "        vertical-align: top;\n",
       "    }\n",
       "\n",
       "    .dataframe thead th {\n",
       "        text-align: right;\n",
       "    }\n",
       "</style>\n",
       "<table border=\"1\" class=\"dataframe\">\n",
       "  <thead>\n",
       "    <tr style=\"text-align: right;\">\n",
       "      <th></th>\n",
       "      <th>ClaimId</th>\n",
       "      <th>LineItemID</th>\n",
       "      <th>PetPolicyID</th>\n",
       "      <th>ItemDescription</th>\n",
       "      <th>DiagnosisOne</th>\n",
       "      <th>DiagnosisTwo</th>\n",
       "      <th>LineItemPrice</th>\n",
       "      <th>ClaimDateClosed</th>\n",
       "      <th>Condition</th>\n",
       "    </tr>\n",
       "  </thead>\n",
       "  <tbody>\n",
       "    <tr>\n",
       "      <th>0</th>\n",
       "      <td>19089584</td>\n",
       "      <td>969409</td>\n",
       "      <td>14770</td>\n",
       "      <td>Duc:  Office Inject - analgesic</td>\n",
       "      <td>Preventative</td>\n",
       "      <td>Owner is requesting that we submit a claim for...</td>\n",
       "      <td>49.75</td>\n",
       "      <td>2021-05-20 17:14:00.0000000</td>\n",
       "      <td>NaN</td>\n",
       "    </tr>\n",
       "    <tr>\n",
       "      <th>1</th>\n",
       "      <td>19499370</td>\n",
       "      <td>3929062</td>\n",
       "      <td>61921</td>\n",
       "      <td>Sam: DVM Inpatient Examination</td>\n",
       "      <td>Hemorrhagic gastroenteritis</td>\n",
       "      <td>NaN</td>\n",
       "      <td>51.00</td>\n",
       "      <td>2021-08-26 12:02:00.0000000</td>\n",
       "      <td>NaN</td>\n",
       "    </tr>\n",
       "    <tr>\n",
       "      <th>2</th>\n",
       "      <td>19403436</td>\n",
       "      <td>2344322</td>\n",
       "      <td>50821</td>\n",
       "      <td>Jax:  PD Hill's Canine I/D 8.5lbs - bag</td>\n",
       "      <td>coughing, diarrhea</td>\n",
       "      <td>NaN</td>\n",
       "      <td>44.43</td>\n",
       "      <td>2021-08-03 11:48:00.0000000</td>\n",
       "      <td>NaN</td>\n",
       "    </tr>\n",
       "    <tr>\n",
       "      <th>3</th>\n",
       "      <td>19369542</td>\n",
       "      <td>1634713</td>\n",
       "      <td>12166</td>\n",
       "      <td>Brody:  Metacam Injection Per ml</td>\n",
       "      <td>Lumpectomy</td>\n",
       "      <td>NaN</td>\n",
       "      <td>22.00</td>\n",
       "      <td>2021-07-26 09:41:00.0000000</td>\n",
       "      <td>NaN</td>\n",
       "    </tr>\n",
       "    <tr>\n",
       "      <th>4</th>\n",
       "      <td>18957207</td>\n",
       "      <td>920017</td>\n",
       "      <td>47937</td>\n",
       "      <td>Tango:  Exam/Consultation Emergency</td>\n",
       "      <td>labored breathing /recumbent</td>\n",
       "      <td>NaN</td>\n",
       "      <td>174.17</td>\n",
       "      <td>2021-04-18 09:22:00.0000000</td>\n",
       "      <td>NaN</td>\n",
       "    </tr>\n",
       "  </tbody>\n",
       "</table>\n",
       "</div>"
      ],
      "text/plain": [
       "    ClaimId  LineItemID  PetPolicyID                          ItemDescription  \\\n",
       "0  19089584      969409        14770          Duc:  Office Inject - analgesic   \n",
       "1  19499370     3929062        61921           Sam: DVM Inpatient Examination   \n",
       "2  19403436     2344322        50821  Jax:  PD Hill's Canine I/D 8.5lbs - bag   \n",
       "3  19369542     1634713        12166         Brody:  Metacam Injection Per ml   \n",
       "4  18957207      920017        47937      Tango:  Exam/Consultation Emergency   \n",
       "\n",
       "                   DiagnosisOne  \\\n",
       "0                  Preventative   \n",
       "1   Hemorrhagic gastroenteritis   \n",
       "2            coughing, diarrhea   \n",
       "3                    Lumpectomy   \n",
       "4  labored breathing /recumbent   \n",
       "\n",
       "                                        DiagnosisTwo  LineItemPrice  \\\n",
       "0  Owner is requesting that we submit a claim for...          49.75   \n",
       "1                                                NaN          51.00   \n",
       "2                                                NaN          44.43   \n",
       "3                                                NaN          22.00   \n",
       "4                                                NaN         174.17   \n",
       "\n",
       "               ClaimDateClosed  Condition  \n",
       "0  2021-05-20 17:14:00.0000000        NaN  \n",
       "1  2021-08-26 12:02:00.0000000        NaN  \n",
       "2  2021-08-03 11:48:00.0000000        NaN  \n",
       "3  2021-07-26 09:41:00.0000000        NaN  \n",
       "4  2021-04-18 09:22:00.0000000        NaN  "
      ]
     },
     "execution_count": 23,
     "metadata": {},
     "output_type": "execute_result"
    }
   ],
   "source": [
    "df2.head()"
   ]
  },
  {
   "cell_type": "code",
   "execution_count": 24,
   "metadata": {
    "scrolled": false
   },
   "outputs": [
    {
     "data": {
      "text/plain": [
       "1"
      ]
     },
     "execution_count": 24,
     "metadata": {},
     "output_type": "execute_result"
    }
   ],
   "source": [
    "df2['DiagnosisOne'].isnull().sum()"
   ]
  },
  {
   "cell_type": "code",
   "execution_count": 25,
   "metadata": {},
   "outputs": [],
   "source": [
    "df2 = df2[pd.notnull(df2['DiagnosisOne'])]"
   ]
  },
  {
   "cell_type": "code",
   "execution_count": 26,
   "metadata": {},
   "outputs": [],
   "source": [
    "new_input = df2['DiagnosisOne']"
   ]
  },
  {
   "cell_type": "code",
   "execution_count": 27,
   "metadata": {},
   "outputs": [],
   "source": [
    "new_output = rnd.predict(count_vect.transform(new_input))"
   ]
  },
  {
   "cell_type": "code",
   "execution_count": 28,
   "metadata": {},
   "outputs": [],
   "source": [
    "df2['Condition'] = new_output"
   ]
  },
  {
   "cell_type": "code",
   "execution_count": 29,
   "metadata": {},
   "outputs": [
    {
     "data": {
      "text/html": [
       "<div>\n",
       "<style scoped>\n",
       "    .dataframe tbody tr th:only-of-type {\n",
       "        vertical-align: middle;\n",
       "    }\n",
       "\n",
       "    .dataframe tbody tr th {\n",
       "        vertical-align: top;\n",
       "    }\n",
       "\n",
       "    .dataframe thead th {\n",
       "        text-align: right;\n",
       "    }\n",
       "</style>\n",
       "<table border=\"1\" class=\"dataframe\">\n",
       "  <thead>\n",
       "    <tr style=\"text-align: right;\">\n",
       "      <th></th>\n",
       "      <th>ClaimId</th>\n",
       "      <th>LineItemID</th>\n",
       "      <th>PetPolicyID</th>\n",
       "      <th>ItemDescription</th>\n",
       "      <th>DiagnosisOne</th>\n",
       "      <th>DiagnosisTwo</th>\n",
       "      <th>LineItemPrice</th>\n",
       "      <th>ClaimDateClosed</th>\n",
       "      <th>Condition</th>\n",
       "    </tr>\n",
       "  </thead>\n",
       "  <tbody>\n",
       "    <tr>\n",
       "      <th>0</th>\n",
       "      <td>19089584</td>\n",
       "      <td>969409</td>\n",
       "      <td>14770</td>\n",
       "      <td>Duc:  Office Inject - analgesic</td>\n",
       "      <td>Preventative</td>\n",
       "      <td>Owner is requesting that we submit a claim for...</td>\n",
       "      <td>49.75</td>\n",
       "      <td>2021-05-20 17:14:00.0000000</td>\n",
       "      <td>NO COND</td>\n",
       "    </tr>\n",
       "    <tr>\n",
       "      <th>1</th>\n",
       "      <td>19499370</td>\n",
       "      <td>3929062</td>\n",
       "      <td>61921</td>\n",
       "      <td>Sam: DVM Inpatient Examination</td>\n",
       "      <td>Hemorrhagic gastroenteritis</td>\n",
       "      <td>NaN</td>\n",
       "      <td>51.00</td>\n",
       "      <td>2021-08-26 12:02:00.0000000</td>\n",
       "      <td>GASTROENTERITIS</td>\n",
       "    </tr>\n",
       "    <tr>\n",
       "      <th>2</th>\n",
       "      <td>19403436</td>\n",
       "      <td>2344322</td>\n",
       "      <td>50821</td>\n",
       "      <td>Jax:  PD Hill's Canine I/D 8.5lbs - bag</td>\n",
       "      <td>coughing, diarrhea</td>\n",
       "      <td>NaN</td>\n",
       "      <td>44.43</td>\n",
       "      <td>2021-08-03 11:48:00.0000000</td>\n",
       "      <td>DIARRHEA</td>\n",
       "    </tr>\n",
       "    <tr>\n",
       "      <th>3</th>\n",
       "      <td>19369542</td>\n",
       "      <td>1634713</td>\n",
       "      <td>12166</td>\n",
       "      <td>Brody:  Metacam Injection Per ml</td>\n",
       "      <td>Lumpectomy</td>\n",
       "      <td>NaN</td>\n",
       "      <td>22.00</td>\n",
       "      <td>2021-07-26 09:41:00.0000000</td>\n",
       "      <td>MASS(ES)</td>\n",
       "    </tr>\n",
       "    <tr>\n",
       "      <th>4</th>\n",
       "      <td>18957207</td>\n",
       "      <td>920017</td>\n",
       "      <td>47937</td>\n",
       "      <td>Tango:  Exam/Consultation Emergency</td>\n",
       "      <td>labored breathing /recumbent</td>\n",
       "      <td>NaN</td>\n",
       "      <td>174.17</td>\n",
       "      <td>2021-04-18 09:22:00.0000000</td>\n",
       "      <td>NO COND</td>\n",
       "    </tr>\n",
       "    <tr>\n",
       "      <th>...</th>\n",
       "      <td>...</td>\n",
       "      <td>...</td>\n",
       "      <td>...</td>\n",
       "      <td>...</td>\n",
       "      <td>...</td>\n",
       "      <td>...</td>\n",
       "      <td>...</td>\n",
       "      <td>...</td>\n",
       "      <td>...</td>\n",
       "    </tr>\n",
       "    <tr>\n",
       "      <th>4995</th>\n",
       "      <td>18903748</td>\n",
       "      <td>3084317</td>\n",
       "      <td>16855</td>\n",
       "      <td>PIKE:  Biohazardous waste disposal-Sharps</td>\n",
       "      <td>Heart disease</td>\n",
       "      <td>NaN</td>\n",
       "      <td>0.54</td>\n",
       "      <td>2021-04-05 14:16:00.0000000</td>\n",
       "      <td>NO COND</td>\n",
       "    </tr>\n",
       "    <tr>\n",
       "      <th>4996</th>\n",
       "      <td>19176392</td>\n",
       "      <td>1108886</td>\n",
       "      <td>13861</td>\n",
       "      <td>Millie:  Midazolam 5 mg/ml Inj (ml)</td>\n",
       "      <td>MRI</td>\n",
       "      <td>NaN</td>\n",
       "      <td>42.69</td>\n",
       "      <td>2021-06-11 08:14:00.0000000</td>\n",
       "      <td>SEIZURE</td>\n",
       "    </tr>\n",
       "    <tr>\n",
       "      <th>4997</th>\n",
       "      <td>19450426</td>\n",
       "      <td>3924884</td>\n",
       "      <td>21444</td>\n",
       "      <td>Riley: Seresto for Large Dogs</td>\n",
       "      <td>Skin rash/ infection</td>\n",
       "      <td>NaN</td>\n",
       "      <td>62.49</td>\n",
       "      <td>2021-08-26 10:02:00.0000000</td>\n",
       "      <td>NO COND</td>\n",
       "    </tr>\n",
       "    <tr>\n",
       "      <th>4998</th>\n",
       "      <td>18957005</td>\n",
       "      <td>2326545</td>\n",
       "      <td>30320</td>\n",
       "      <td>Dudu:  Exam/Consultation   Medical Condition</td>\n",
       "      <td>Vomiting, diarhea</td>\n",
       "      <td>NaN</td>\n",
       "      <td>97.78</td>\n",
       "      <td>2021-04-18 06:23:00.0000000</td>\n",
       "      <td>VOMITING</td>\n",
       "    </tr>\n",
       "    <tr>\n",
       "      <th>4999</th>\n",
       "      <td>19019323</td>\n",
       "      <td>2287937</td>\n",
       "      <td>43423</td>\n",
       "      <td>Charlie:  Radiograph  Initial 2 Views</td>\n",
       "      <td>Vomiting</td>\n",
       "      <td>NaN</td>\n",
       "      <td>245.00</td>\n",
       "      <td>2021-05-03 15:21:00.0000000</td>\n",
       "      <td>VOMITING</td>\n",
       "    </tr>\n",
       "  </tbody>\n",
       "</table>\n",
       "<p>4999 rows × 9 columns</p>\n",
       "</div>"
      ],
      "text/plain": [
       "       ClaimId  LineItemID  PetPolicyID  \\\n",
       "0     19089584      969409        14770   \n",
       "1     19499370     3929062        61921   \n",
       "2     19403436     2344322        50821   \n",
       "3     19369542     1634713        12166   \n",
       "4     18957207      920017        47937   \n",
       "...        ...         ...          ...   \n",
       "4995  18903748     3084317        16855   \n",
       "4996  19176392     1108886        13861   \n",
       "4997  19450426     3924884        21444   \n",
       "4998  18957005     2326545        30320   \n",
       "4999  19019323     2287937        43423   \n",
       "\n",
       "                                   ItemDescription  \\\n",
       "0                  Duc:  Office Inject - analgesic   \n",
       "1                   Sam: DVM Inpatient Examination   \n",
       "2          Jax:  PD Hill's Canine I/D 8.5lbs - bag   \n",
       "3                 Brody:  Metacam Injection Per ml   \n",
       "4              Tango:  Exam/Consultation Emergency   \n",
       "...                                            ...   \n",
       "4995     PIKE:  Biohazardous waste disposal-Sharps   \n",
       "4996           Millie:  Midazolam 5 mg/ml Inj (ml)   \n",
       "4997                 Riley: Seresto for Large Dogs   \n",
       "4998  Dudu:  Exam/Consultation   Medical Condition   \n",
       "4999         Charlie:  Radiograph  Initial 2 Views   \n",
       "\n",
       "                      DiagnosisOne  \\\n",
       "0                     Preventative   \n",
       "1      Hemorrhagic gastroenteritis   \n",
       "2               coughing, diarrhea   \n",
       "3                       Lumpectomy   \n",
       "4     labored breathing /recumbent   \n",
       "...                            ...   \n",
       "4995                 Heart disease   \n",
       "4996                           MRI   \n",
       "4997          Skin rash/ infection   \n",
       "4998            Vomiting, diarhea    \n",
       "4999                      Vomiting   \n",
       "\n",
       "                                           DiagnosisTwo  LineItemPrice  \\\n",
       "0     Owner is requesting that we submit a claim for...          49.75   \n",
       "1                                                   NaN          51.00   \n",
       "2                                                   NaN          44.43   \n",
       "3                                                   NaN          22.00   \n",
       "4                                                   NaN         174.17   \n",
       "...                                                 ...            ...   \n",
       "4995                                                NaN           0.54   \n",
       "4996                                                NaN          42.69   \n",
       "4997                                                NaN          62.49   \n",
       "4998                                                NaN          97.78   \n",
       "4999                                                NaN         245.00   \n",
       "\n",
       "                  ClaimDateClosed        Condition  \n",
       "0     2021-05-20 17:14:00.0000000          NO COND  \n",
       "1     2021-08-26 12:02:00.0000000  GASTROENTERITIS  \n",
       "2     2021-08-03 11:48:00.0000000         DIARRHEA  \n",
       "3     2021-07-26 09:41:00.0000000         MASS(ES)  \n",
       "4     2021-04-18 09:22:00.0000000          NO COND  \n",
       "...                           ...              ...  \n",
       "4995  2021-04-05 14:16:00.0000000          NO COND  \n",
       "4996  2021-06-11 08:14:00.0000000          SEIZURE  \n",
       "4997  2021-08-26 10:02:00.0000000          NO COND  \n",
       "4998  2021-04-18 06:23:00.0000000         VOMITING  \n",
       "4999  2021-05-03 15:21:00.0000000         VOMITING  \n",
       "\n",
       "[4999 rows x 9 columns]"
      ]
     },
     "execution_count": 29,
     "metadata": {},
     "output_type": "execute_result"
    }
   ],
   "source": [
    "df2"
   ]
  },
  {
   "cell_type": "code",
   "execution_count": 30,
   "metadata": {},
   "outputs": [
    {
     "data": {
      "text/plain": [
       "20"
      ]
     },
     "execution_count": 30,
     "metadata": {},
     "output_type": "execute_result"
    }
   ],
   "source": [
    "df2['Condition'].nunique()"
   ]
  },
  {
   "cell_type": "code",
   "execution_count": 31,
   "metadata": {
    "scrolled": false
   },
   "outputs": [
    {
     "data": {
      "image/png": "[encoded data removed]",
      "text/plain": [
       "<Figure size 720x432 with 1 Axes>"
      ]
     },
     "metadata": {
      "needs_background": "light"
     },
     "output_type": "display_data"
    }
   ],
   "source": [
    "fig = plt.figure(figsize=(10,6))\n",
    "df2.groupby('Condition').DiagnosisOne.count().plot.bar(ylim=0)\n",
    "plt.show()"
   ]
  },
  {
   "cell_type": "code",
   "execution_count": 32,
   "metadata": {},
   "outputs": [],
   "source": [
    "# Random manual check for \"UTI\" in both datasets discovered that a lot of simple descriptions in column \"DiagnosisOne\"\n",
    "# didn't correspond to the \"Urinary Tract Infection\" in the original dataset. It is beyond the scope of this\n",
    "# assignment, but as a first step before making predictive models I would make sure to ask questions and understand\n",
    "# reason behind discrepancies in the original dataset."
   ]
  },
  {
   "cell_type": "code",
   "execution_count": 33,
   "metadata": {},
   "outputs": [],
   "source": [
    "df2.to_csv('Holdout_Prediction.csv', index=None)"
   ]
  },
  {
   "cell_type": "code",
   "execution_count": null,
   "metadata": {},
   "outputs": [],
   "source": []
  }
 ],
 "metadata": {
  "kernelspec": {
   "display_name": "Python 3",
   "language": "python",
   "name": "python3"
  },
  "language_info": {
   "codemirror_mode": {
    "name": "ipython",
    "version": 3
   },
   "file_extension": ".py",
   "mimetype": "text/x-python",
   "name": "python",
   "nbconvert_exporter": "python",
   "pygments_lexer": "ipython3",
   "version": "3.8.5"
  }
 },
 "nbformat": 4,
 "nbformat_minor": 5
}
